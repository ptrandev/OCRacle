{
 "cells": [
  {
   "cell_type": "markdown",
   "metadata": {},
   "source": [
    "# OCRacle\n",
    "\n",
    "An optical character recognition tool for detecting Latin alphabet characters.\n",
    "\n",
    "Below, enter the file path of the image you want to process. The image should\n",
    "contain a single Latin alphabet character.\n",
    "\n",
    "After you are done, click the \"Run All\" button to execute the code!"
   ]
  },
  {
   "cell_type": "code",
   "execution_count": null,
   "metadata": {},
   "outputs": [],
   "source": [
    "FILE_PATH = '../test/testImages/Y.png'"
   ]
  },
  {
   "cell_type": "code",
   "execution_count": null,
   "metadata": {},
   "outputs": [],
   "source": [
    "import os\n",
    "import sys\n",
    "import matplotlib.pyplot as plt\n",
    "\n",
    "sys.path.append(os.path.join(os.getcwd(), '..'))\n",
    "\n",
    "from src.input import input\n",
    "from src.output import output, LABELS\n",
    "\n",
    "image = input(FILE_PATH)\n",
    "\n",
    "# plot the image, from a numpy array, with a label of \"input image\"\n",
    "plt.imshow(image[0], cmap='gray')\n",
    "plt.title('Input Image')\n",
    "plt.show()\n",
    "\n",
    "# get the prediction from the model\n",
    "prediction = output(image)\n",
    "\n",
    "# plot the confidence matrix of the prediction in a bar graph\n",
    "plt.bar(LABELS, prediction['confidenceMatrix'][0])\n",
    "plt.title('Confidence Matrix')\n",
    "plt.xlabel('Character')\n",
    "plt.ylabel('Confidence')\n",
    "plt.show()\n",
    "\n",
    "# print the prediction, which is the character with the highest confidence\n",
    "print(\"The predicted character is: \", prediction[\"predictedLabel\"])"
   ]
  }
 ],
 "metadata": {
  "kernelspec": {
   "display_name": "Python 3",
   "language": "python",
   "name": "python3"
  },
  "language_info": {
   "codemirror_mode": {
    "name": "ipython",
    "version": 3
   },
   "file_extension": ".py",
   "mimetype": "text/x-python",
   "name": "python",
   "nbconvert_exporter": "python",
   "pygments_lexer": "ipython3",
   "version": "3.9.6"
  }
 },
 "nbformat": 4,
 "nbformat_minor": 2
}
