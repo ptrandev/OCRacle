{
 "cells": [
  {
   "cell_type": "markdown",
   "metadata": {},
   "source": [
    "# OCRacle\n",
    "\n",
    "An optical character recognition tool for detecting Latin alphabet characters.\n",
    "\n",
    "Below, enter the file path of the image you want to process. The image should\n",
    "contain a single Latin alphabet character.\n",
    "\n",
    "After you are done, click the \"Run All\" button to execute the code!"
   ]
  },
  {
   "cell_type": "code",
   "execution_count": null,
   "metadata": {},
   "outputs": [],
   "source": [
    "FILE_PATH = \"../test/testImages/Y.png\""
   ]
  },
  {
   "cell_type": "code",
   "execution_count": null,
   "metadata": {},
   "outputs": [],
   "source": [
    "import os\n",
    "import sys\n",
    "import matplotlib.pyplot as plt\n",
    "import numpy as np\n",
    "from typing import Dict, Union"
   ]
  },
  {
   "cell_type": "code",
   "execution_count": null,
   "metadata": {},
   "outputs": [],
   "source": [
    "sys.path.append(os.path.join(os.getcwd(), \"..\"))\n",
    "\n",
    "from src.input import input\n",
    "from src.output import output, LABELS\n",
    "\n",
    "# transform the image into a format the our model can understand\n",
    "image : np.ndarray = input(FILE_PATH)\n",
    "\n",
    "# plot the image, from a numpy array, with a label of \"input image\"\n",
    "plt.imshow(image[0], cmap=\"gray\")\n",
    "plt.title(\"Input Image\")\n",
    "plt.show()\n",
    "\n",
    "# get the prediction from the model\n",
    "prediction : Dict[str, Union[str, np.ndarray]] = output(image)\n",
    "\n",
    "# plot the probability distribution of the prediction in a bar graph\n",
    "plt.bar(LABELS, prediction[\"probabilityDistribution\"][0])\n",
    "plt.title(\"Probability Distribution\")\n",
    "plt.xlabel(\"Character\")\n",
    "plt.ylabel(\"Confidence\")\n",
    "plt.show()\n",
    "\n",
    "# print the prediction, which is the character with the highest confidence\n",
    "print(\"The predicted character is: \", prediction[\"predictedLabel\"])"
   ]
  }
 ],
 "metadata": {
  "kernelspec": {
   "display_name": "env",
   "language": "python",
   "name": "python3"
  },
  "language_info": {
   "codemirror_mode": {
    "name": "ipython",
    "version": 3
   },
   "file_extension": ".py",
   "mimetype": "text/x-python",
   "name": "python",
   "nbconvert_exporter": "python",
   "pygments_lexer": "ipython3",
   "version": "3.9.6"
  }
 },
 "nbformat": 4,
 "nbformat_minor": 2
}
